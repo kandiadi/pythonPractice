{
 "cells": [
  {
   "cell_type": "markdown",
   "id": "cacdccc1-f0e3-4d87-a21d-29012c7326b1",
   "metadata": {},
   "source": [
    "# Reverse The Digits\r\n",
    "Description\r\n",
    "You will be given a number. You have to reverse the digits of the number and print it.\r\n",
    "\r\n",
    "----------------------------------------------------------------------\r\n",
    "Input:\r\n",
    "A positive integer greater than zero\r\n",
    "\r\n",
    "Output:\r\n",
    "The number in reverse order. Check sample outputs for more details.\r\n",
    "\r\n",
    "----------------------------------------------------------------------\r\n",
    "Sample input:\r\n",
    "345200\r\n",
    "\r\n",
    "Sample output:\r\n",
    "2543\r\n",
    "\r\n",
    "----------------------------------------------------------------------\r\n",
    "Sample input:\r\n",
    "6752343\r\n",
    "\r\n",
    "Sample output:\r\n",
    "3432576"
   ]
  },
  {
   "cell_type": "code",
   "execution_count": 2,
   "id": "133fdcb5-d40e-4388-a0d9-587d21477046",
   "metadata": {},
   "outputs": [
    {
     "name": "stdin",
     "output_type": "stream",
     "text": [
      " 2345678\n"
     ]
    },
    {
     "name": "stdout",
     "output_type": "stream",
     "text": [
      "8765432\n"
     ]
    }
   ],
   "source": [
    "#take input of the number here\n",
    "inp_dig = int(input())\n",
    "\n",
    "#write code to reverse the number here\n",
    "def reverse(dig):\n",
    "    reverse_digit = 0\n",
    "    for i in range(1,len(str(dig))+1):\n",
    "        last_digit = dig%10\n",
    "        dig = dig//10\n",
    "        reverse_digit = reverse_digit*10+last_digit\n",
    "    return reverse_digit\n",
    "    \n",
    "print(reverse(inp_dig))"
   ]
  },
  {
   "cell_type": "code",
   "execution_count": null,
   "id": "6118ced3-da61-406f-994b-6df22a3c4bc1",
   "metadata": {},
   "outputs": [],
   "source": []
  }
 ],
 "metadata": {
  "kernelspec": {
   "display_name": "Python 3 (ipykernel)",
   "language": "python",
   "name": "python3"
  },
  "language_info": {
   "codemirror_mode": {
    "name": "ipython",
    "version": 3
   },
   "file_extension": ".py",
   "mimetype": "text/x-python",
   "name": "python",
   "nbconvert_exporter": "python",
   "pygments_lexer": "ipython3",
   "version": "3.12.4"
  }
 },
 "nbformat": 4,
 "nbformat_minor": 5
}
