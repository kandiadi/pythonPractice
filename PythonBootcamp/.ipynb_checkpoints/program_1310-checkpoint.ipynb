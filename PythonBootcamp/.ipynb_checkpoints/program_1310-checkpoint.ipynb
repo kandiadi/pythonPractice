{
 "cells": [
  {
   "cell_type": "markdown",
   "id": "0de5b8bf-bec5-4b55-8780-bd757f89a33c",
   "metadata": {},
   "source": [
    "# write python function to accept a number # get diff of that number from 20 # if result of diff is positive then return double the diff # if result of diff is negative then return only diff # if result is zero then return message \"entered number is same \""
   ]
  },
  {
   "cell_type": "code",
   "execution_count": 8,
   "id": "bd925ec0-b7b3-402f-8301-bef9b22c7e45",
   "metadata": {},
   "outputs": [
    {
     "name": "stdin",
     "output_type": "stream",
     "text": [
      "enter the number 10\n"
     ]
    },
    {
     "data": {
      "text/plain": [
       "20"
      ]
     },
     "execution_count": 8,
     "metadata": {},
     "output_type": "execute_result"
    }
   ],
   "source": [
    "def diff_20(num):\n",
    "    diff = 20 - int(num)\n",
    "    if (diff == 0):\n",
    "        return 'entered number is same'\n",
    "    elif diff > 0:\n",
    "        return (int(diff) * 2)\n",
    "    else:\n",
    "        return abs(diff)\n",
    "\n",
    "num = input('enter the number')\n",
    "diff_20(num)"
   ]
  },
  {
   "cell_type": "markdown",
   "id": "0187eba3-cd9f-4407-a00b-6a57f7d6560f",
   "metadata": {},
   "source": [
    "# write down python function to test whether input number is within 100 # or 1000 or 2000"
   ]
  },
  {
   "cell_type": "code",
   "execution_count": 13,
   "id": "d8222530-f936-4bb5-a4d7-a03d9dcf9984",
   "metadata": {},
   "outputs": [
    {
     "name": "stdin",
     "output_type": "stream",
     "text": [
      "enter a number less than 2000 245\n"
     ]
    },
    {
     "data": {
      "text/plain": [
       "'number less than 1000 but greater than 100'"
      ]
     },
     "execution_count": 13,
     "metadata": {},
     "output_type": "execute_result"
    }
   ],
   "source": [
    "def range_check(num):\n",
    "    if int(num) < 100: \n",
    "        return 'number is less than 100'\n",
    "    elif int(num) <1000:\n",
    "        return 'number less than 1000 but greater than 100'\n",
    "    elif int(num) < 2000:\n",
    "        return 'number is less than 2000 but greater than 1000'\n",
    "\n",
    "num = input('enter a number less than 2000')\n",
    "range_check(num)"
   ]
  },
  {
   "cell_type": "markdown",
   "id": "b460774f-db99-413d-a10b-59ab0d90dabf",
   "metadata": {},
   "source": [
    "# write down python function to take list of numbers from user # return list of even numbers # use output of above function for next calculations # filter if number is divisible by 4 , return \"Not found\" if no such num"
   ]
  },
  {
   "cell_type": "code",
   "execution_count": 20,
   "id": "ff1941fa-cd7a-4d93-86e4-e560e7210cee",
   "metadata": {},
   "outputs": [
    {
     "name": "stdin",
     "output_type": "stream",
     "text": [
      "enter the list [1,2,3,5,6,7,9]\n"
     ]
    },
    {
     "name": "stdout",
     "output_type": "stream",
     "text": [
      "[2, 6]\n",
      "not found\n"
     ]
    }
   ],
   "source": [
    "import ast\n",
    "def return_even():\n",
    "    inp_lst = ast.literal_eval(input('enter the list'))\n",
    "    even_num = []\n",
    "    for i in inp_lst:\n",
    "        if int(i%2)==0:\n",
    "            even_num.append(i)\n",
    "    return even_num\n",
    "\n",
    "input_evens = return_even()\n",
    "print(input_evens)\n",
    "count = 0\n",
    "for i in input_evens:\n",
    "    if int(i)%4 == 0:\n",
    "        print(f'{i} is divisible by 4')\n",
    "        count +=1\n",
    "\n",
    "if count ==0:\n",
    "    print('not found')"
   ]
  },
  {
   "cell_type": "code",
   "execution_count": null,
   "id": "bd7d122f-cbe3-4c93-95ba-7e1735a249a0",
   "metadata": {},
   "outputs": [],
   "source": []
  }
 ],
 "metadata": {
  "kernelspec": {
   "display_name": "Python 3 (ipykernel)",
   "language": "python",
   "name": "python3"
  },
  "language_info": {
   "codemirror_mode": {
    "name": "ipython",
    "version": 3
   },
   "file_extension": ".py",
   "mimetype": "text/x-python",
   "name": "python",
   "nbconvert_exporter": "python",
   "pygments_lexer": "ipython3",
   "version": "3.12.4"
  }
 },
 "nbformat": 4,
 "nbformat_minor": 5
}
