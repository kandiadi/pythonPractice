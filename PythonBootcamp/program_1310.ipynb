{
 "cells": [
  {
   "cell_type": "markdown",
   "id": "0de5b8bf-bec5-4b55-8780-bd757f89a33c",
   "metadata": {},
   "source": [
    "# write python function to accept a number # get diff of that number from 20 # if result of diff is positive then return double the diff # if result of diff is negative then return only diff # if result is zero then return message \"entered number is same \""
   ]
  },
  {
   "cell_type": "code",
   "execution_count": 8,
   "id": "bd925ec0-b7b3-402f-8301-bef9b22c7e45",
   "metadata": {},
   "outputs": [
    {
     "name": "stdin",
     "output_type": "stream",
     "text": [
      "enter the number 10\n"
     ]
    },
    {
     "data": {
      "text/plain": [
       "20"
      ]
     },
     "execution_count": 8,
     "metadata": {},
     "output_type": "execute_result"
    }
   ],
   "source": [
    "def diff_20(num):\n",
    "    diff = 20 - int(num)\n",
    "    if (diff == 0):\n",
    "        return 'entered number is same'\n",
    "    elif diff > 0:\n",
    "        return (int(diff) * 2)\n",
    "    else:\n",
    "        return abs(diff)\n",
    "\n",
    "num = input('enter the number')\n",
    "diff_20(num)"
   ]
  },
  {
   "cell_type": "markdown",
   "id": "0187eba3-cd9f-4407-a00b-6a57f7d6560f",
   "metadata": {},
   "source": [
    "# write down python function to test whether input number is within 100 # or 1000 or 2000"
   ]
  },
  {
   "cell_type": "code",
   "execution_count": 13,
   "id": "d8222530-f936-4bb5-a4d7-a03d9dcf9984",
   "metadata": {},
   "outputs": [
    {
     "name": "stdin",
     "output_type": "stream",
     "text": [
      "enter a number less than 2000 245\n"
     ]
    },
    {
     "data": {
      "text/plain": [
       "'number less than 1000 but greater than 100'"
      ]
     },
     "execution_count": 13,
     "metadata": {},
     "output_type": "execute_result"
    }
   ],
   "source": [
    "def range_check(num):\n",
    "    if int(num) < 100: \n",
    "        return 'number is less than 100'\n",
    "    elif int(num) <1000:\n",
    "        return 'number less than 1000 but greater than 100'\n",
    "    elif int(num) < 2000:\n",
    "        return 'number is less than 2000 but greater than 1000'\n",
    "\n",
    "num = input('enter a number less than 2000')\n",
    "range_check(num)"
   ]
  },
  {
   "cell_type": "markdown",
   "id": "b460774f-db99-413d-a10b-59ab0d90dabf",
   "metadata": {},
   "source": [
    "# write down python function to take list of numbers from user # return list of even numbers # use output of above function for next calculations # filter if number is divisible by 4 , return \"Not found\" if no such num"
   ]
  },
  {
   "cell_type": "code",
   "execution_count": 20,
   "id": "ff1941fa-cd7a-4d93-86e4-e560e7210cee",
   "metadata": {},
   "outputs": [
    {
     "name": "stdin",
     "output_type": "stream",
     "text": [
      "enter the list [1,2,3,5,6,7,9]\n"
     ]
    },
    {
     "name": "stdout",
     "output_type": "stream",
     "text": [
      "[2, 6]\n",
      "not found\n"
     ]
    }
   ],
   "source": [
    "import ast\n",
    "def return_even():\n",
    "    inp_lst = ast.literal_eval(input('enter the list'))\n",
    "    even_num = []\n",
    "    for i in inp_lst:\n",
    "        if int(i%2)==0:\n",
    "            even_num.append(i)\n",
    "    return even_num\n",
    "\n",
    "input_evens = return_even()\n",
    "print(input_evens)\n",
    "count = 0\n",
    "for i in input_evens:\n",
    "    if int(i)%4 == 0:\n",
    "        print(f'{i} is divisible by 4')\n",
    "        count +=1\n",
    "\n",
    "if count ==0:\n",
    "    print('not found')"
   ]
  },
  {
   "cell_type": "markdown",
   "id": "e427ccd0-f351-4050-ab50-0e432181135b",
   "metadata": {},
   "source": [
    "# convert wieght from pounds to kg using lambda expression"
   ]
  },
  {
   "cell_type": "code",
   "execution_count": 61,
   "id": "ab3263e3-93fb-4e71-b132-5dd54f6fec8f",
   "metadata": {},
   "outputs": [
    {
     "name": "stdin",
     "output_type": "stream",
     "text": [
      "enter in pounds [1,2]\n"
     ]
    },
    {
     "name": "stdout",
     "output_type": "stream",
     "text": [
      "[0.45, 0.9]\n"
     ]
    }
   ],
   "source": [
    "import ast\n",
    "weight = ast.literal_eval(input('enter in pounds'))\n",
    "cde = lambda x: float(x)*0.45\n",
    "abc = [cde(i) for i in weight]\n",
    "print(abc)\n"
   ]
  },
  {
   "cell_type": "code",
   "execution_count": 67,
   "id": "e5342611-b768-474f-93fe-967c01e4586c",
   "metadata": {},
   "outputs": [
    {
     "name": "stdout",
     "output_type": "stream",
     "text": [
      "[2, 4]\n"
     ]
    }
   ],
   "source": [
    "data = ['hi',2,4,'help']\n",
    "print(list(filter(lambda x: type(x) ==int,data)))"
   ]
  },
  {
   "cell_type": "code",
   "execution_count": 81,
   "id": "ae1e1cb2-eb8a-499b-8d66-c7169452d668",
   "metadata": {},
   "outputs": [
    {
     "data": {
      "text/plain": [
       "35"
      ]
     },
     "execution_count": 81,
     "metadata": {},
     "output_type": "execute_result"
    }
   ],
   "source": [
    "def func(x = 1 ,y = 2):\n",
    "    z = x * y + x + y\n",
    "    return z\n",
    "\n",
    "func(2, func(3))"
   ]
  },
  {
   "cell_type": "code",
   "execution_count": 83,
   "id": "c57ec519-c7ec-41c1-9350-901b97508312",
   "metadata": {},
   "outputs": [
    {
     "data": {
      "text/plain": [
       "9996"
      ]
     },
     "execution_count": 83,
     "metadata": {},
     "output_type": "execute_result"
    }
   ],
   "source": [
    "min = (lambda x, y: x if x < y else y)\n",
    "min(101*99, 102*98)"
   ]
  },
  {
   "cell_type": "code",
   "execution_count": 97,
   "id": "3f35df5e-0ff1-4440-ad43-b6b8889a6bb5",
   "metadata": {},
   "outputs": [
    {
     "name": "stdin",
     "output_type": "stream",
     "text": [
      " ['Sharmistha']\n"
     ]
    },
    {
     "data": {
      "text/plain": [
       "1"
      ]
     },
     "execution_count": 97,
     "metadata": {},
     "output_type": "execute_result"
    }
   ],
   "source": [
    "import ast\n",
    "input_list = ast.literal_eval(input())\n",
    "start_with = lambda x: x[0] == 'S'\n",
    "list(map(start_with, input_list)).count(True)\n"
   ]
  },
  {
   "cell_type": "code",
   "execution_count": 107,
   "id": "b319586e-1fec-45fa-97e5-4d1de7c3f1b9",
   "metadata": {},
   "outputs": [
    {
     "name": "stdin",
     "output_type": "stream",
     "text": [
      " [['ab','cd','ef'],['gh','ij','kl']]\n"
     ]
    },
    {
     "name": "stdout",
     "output_type": "stream",
     "text": [
      "['abgh', 'cdij', 'efkl']\n"
     ]
    }
   ],
   "source": [
    "import ast\n",
    "\n",
    "input_list = ast.literal_eval(input())\n",
    "first_name = input_list[0]\n",
    "last_name = input_list[1]\n",
    "first_last = lambda x,y: x+y\n",
    "name = list(map(first_last,first_name,last_name))\n",
    "\n",
    "print(name)"
   ]
  },
  {
   "cell_type": "code",
   "execution_count": 109,
   "id": "4b9097e6-b6ec-4011-827a-a71888053c58",
   "metadata": {},
   "outputs": [
    {
     "name": "stdout",
     "output_type": "stream",
     "text": [
      "[('I', 1), ('LOVE', 4), ('PYTHON', 6)]\n"
     ]
    }
   ],
   "source": [
    "input_string = \"I love Python\"\n",
    "k = [(i.upper(), len(i)) for i in input_string.split(' ')]\n",
    "print(k)"
   ]
  },
  {
   "cell_type": "code",
   "execution_count": 111,
   "id": "8cdbdde9-05aa-4c78-a570-2508914dffc1",
   "metadata": {},
   "outputs": [
    {
     "name": "stdout",
     "output_type": "stream",
     "text": [
      "[0, 1, 4, 9, 16]\n"
     ]
    }
   ],
   "source": [
    "var = [i**2 for i in range(5)]\n",
    "print(var)"
   ]
  },
  {
   "cell_type": "code",
   "execution_count": 113,
   "id": "69df4e46-a741-4083-afc2-89aca10c1283",
   "metadata": {},
   "outputs": [
    {
     "data": {
      "text/plain": [
       "[5, 6, 7, 10, 6, 7, 8, 11, 7, 8, 9, 12, 11, 12, 13, 16]"
      ]
     },
     "execution_count": 113,
     "metadata": {},
     "output_type": "execute_result"
    }
   ],
   "source": [
    "l1=[1,2,3,7]\n",
    "l2=[4,5,6,9]\n",
    "[x+y for x in l1 for y in l2]"
   ]
  },
  {
   "cell_type": "code",
   "execution_count": 115,
   "id": "4184395f-cb51-42ae-a44a-b4d3a7fafe37",
   "metadata": {},
   "outputs": [
    {
     "name": "stdout",
     "output_type": "stream",
     "text": [
      "None\n"
     ]
    }
   ],
   "source": [
    "def function(n):\n",
    "  n=n+1\n",
    " \n",
    "n=2\n",
    "print(function(2))"
   ]
  },
  {
   "cell_type": "code",
   "execution_count": 117,
   "id": "6afd2217-b88f-4972-85ea-09981ca98f0c",
   "metadata": {},
   "outputs": [
    {
     "name": "stdout",
     "output_type": "stream",
     "text": [
      "[0, -1, -2, 2, 2]\n"
     ]
    }
   ],
   "source": [
    "l=(1, -2, -3, 4, 5)\n",
    "def f1(x):\n",
    "    return x//2\n",
    "m1=map(f1, l)\n",
    "print(list(m1))"
   ]
  },
  {
   "cell_type": "code",
   "execution_count": 119,
   "id": "502d5350-b7ca-4e3a-a5cc-fdc9601ea76b",
   "metadata": {},
   "outputs": [
    {
     "name": "stdout",
     "output_type": "stream",
     "text": [
      "0\n"
     ]
    }
   ],
   "source": [
    "from functools import reduce\n",
    "numbers = [-1, 2, -5, 3, 8,-2, 1,-4,-2]\n",
    "sum = reduce(lambda x, y: x + y, numbers)\n",
    "print(sum)"
   ]
  },
  {
   "cell_type": "code",
   "execution_count": 121,
   "id": "9251d9e0-6476-422c-b7a5-8b4d0625d7a3",
   "metadata": {},
   "outputs": [
    {
     "name": "stdout",
     "output_type": "stream",
     "text": [
      "<map object at 0x0000019D024F2A40>\n"
     ]
    }
   ],
   "source": [
    "sample=[-4,2,5,-3]\n",
    "ans=map(lambda x: x*2, sample)\n",
    "print(ans)"
   ]
  },
  {
   "cell_type": "code",
   "execution_count": 123,
   "id": "12b2e838-338d-453a-a9a7-b13b87c0f069",
   "metadata": {},
   "outputs": [
    {
     "ename": "TypeError",
     "evalue": "'int' object is not iterable",
     "output_type": "error",
     "traceback": [
      "\u001b[1;31m---------------------------------------------------------------------------\u001b[0m",
      "\u001b[1;31mTypeError\u001b[0m                                 Traceback (most recent call last)",
      "Cell \u001b[1;32mIn[123], line 2\u001b[0m\n\u001b[0;32m      1\u001b[0m \u001b[38;5;28;01mfrom\u001b[39;00m \u001b[38;5;21;01mfunctools\u001b[39;00m \u001b[38;5;28;01mimport\u001b[39;00m reduce\n\u001b[1;32m----> 2\u001b[0m \u001b[38;5;28mprint\u001b[39m(\u001b[38;5;28mlist\u001b[39m(reduce(\u001b[38;5;28;01mlambda\u001b[39;00m x,y:x\u001b[38;5;241m+\u001b[39my,\u001b[38;5;28mrange\u001b[39m(\u001b[38;5;241m5\u001b[39m,\u001b[38;5;241m15\u001b[39m))))\n",
      "\u001b[1;31mTypeError\u001b[0m: 'int' object is not iterable"
     ]
    }
   ],
   "source": [
    "from functools import reduce\n",
    "print(list(reduce(lambda x,y:x+y,range(5,15))))"
   ]
  },
  {
   "cell_type": "code",
   "execution_count": 125,
   "id": "26d67e03-27cf-42c4-869c-26dd8a823a04",
   "metadata": {},
   "outputs": [
    {
     "name": "stdout",
     "output_type": "stream",
     "text": [
      "1\n"
     ]
    }
   ],
   "source": [
    "import functools\n",
    "lis=[1, 2, 3, 4, 5]\n",
    "m=functools.reduce(lambda x, y:x if x<y else y, lis)\n",
    "print(m)"
   ]
  },
  {
   "cell_type": "code",
   "execution_count": 127,
   "id": "76b5bf66-6b4d-408b-8620-a33207fba95f",
   "metadata": {},
   "outputs": [
    {
     "name": "stdout",
     "output_type": "stream",
     "text": [
      "1\n"
     ]
    }
   ],
   "source": [
    "lis=[1, 2, 3, 4, 5]\n",
    "c=lis[0]\n",
    "for i in range(len(lis)-1):\n",
    "    if lis[i]<c:\n",
    "       c=lis[i]\n",
    "print(c)"
   ]
  },
  {
   "cell_type": "code",
   "execution_count": 129,
   "id": "8639689b-0760-4560-a90f-75afc24d27d6",
   "metadata": {},
   "outputs": [
    {
     "name": "stdout",
     "output_type": "stream",
     "text": [
      "['dx', 'ix', 'ax', 'sx']\n"
     ]
    }
   ],
   "source": [
    "letters = ('d','i','a','s')\n",
    "ans = list(map(lambda word: f\"{word}x\", letters))\n",
    "print(ans)"
   ]
  },
  {
   "cell_type": "code",
   "execution_count": 131,
   "id": "f646485c-1bd3-4635-a63e-862045f73666",
   "metadata": {},
   "outputs": [
    {
     "name": "stdout",
     "output_type": "stream",
     "text": [
      "[12, 20, 28]\n"
     ]
    }
   ],
   "source": [
    "def sf(a):\n",
    "    return a%4==0 and a%8!=0\n",
    "m=filter(sf, range(10, 31))\n",
    "print(list(m))"
   ]
  },
  {
   "cell_type": "code",
   "execution_count": 133,
   "id": "f9f43035-25e8-4cf6-a1ff-cf234b19f4e0",
   "metadata": {},
   "outputs": [
    {
     "data": {
      "text/plain": [
       "list_reverseiterator"
      ]
     },
     "execution_count": 133,
     "metadata": {},
     "output_type": "execute_result"
    }
   ],
   "source": [
    "my_list = [1, 2, 3, 4, 5]\n",
    "reversed_list = reversed(my_list)\n",
    "\n",
    "type(reversed_list)"
   ]
  },
  {
   "cell_type": "code",
   "execution_count": 135,
   "id": "0f6dc750-d345-4603-8a1d-bc608af987b1",
   "metadata": {},
   "outputs": [
    {
     "name": "stdin",
     "output_type": "stream",
     "text": [
      " ['Arkam', 'Bairstow', 'Cairy', 'Darpan']\n",
      " ['ARKAM', 'Bairstow', 'Cairy', 'Darpan', 'Dhoni', 'Sachin']\n",
      " ['arkam', 'bairstow', 'Cheteshwar', 'Dinesh']\n"
     ]
    },
    {
     "name": "stdout",
     "output_type": "stream",
     "text": [
      "['bairstow', 'arkam']\n"
     ]
    }
   ],
   "source": [
    "#take input here using ast sys\n",
    "import ast\n",
    "list_1 = ast.literal_eval(input())\n",
    "list_2 = ast.literal_eval(input())\n",
    "list_3 = ast.literal_eval(input())\n",
    "# write the code here\n",
    "lower_1 = set(map(lambda x: x.lower(),list_1))\n",
    "lower_2 = set(map(lambda x: x.lower(),list_2))\n",
    "lower_3 = set(map(lambda x: x.lower(),list_3))\n",
    "\n",
    "final_set = lower_1.intersection(lower_2).intersection(lower_3)\n",
    "print(list(final_set))\n"
   ]
  },
  {
   "cell_type": "code",
   "execution_count": 137,
   "id": "2dd1f2a7-1636-42d4-b47d-51350734531d",
   "metadata": {},
   "outputs": [
    {
     "ename": "SyntaxError",
     "evalue": "expected 'else' after 'if' expression (2241238323.py, line 9)",
     "output_type": "error",
     "traceback": [
      "\u001b[1;36m  Cell \u001b[1;32mIn[137], line 9\u001b[1;36m\u001b[0m\n\u001b[1;33m    filter_cond = lambda x: x if x in lower_3 and x in lower_2\u001b[0m\n\u001b[1;37m                            ^\u001b[0m\n\u001b[1;31mSyntaxError\u001b[0m\u001b[1;31m:\u001b[0m expected 'else' after 'if' expression\n"
     ]
    }
   ],
   "source": [
    "import ast\n",
    "list_1 = ast.literal_eval(input())\n",
    "list_2 = ast.literal_eval(input())\n",
    "list_3 = ast.literal_eval(input())\n",
    "# write the code here\n",
    "lower_1 = list(map(lambda x: x.lower(),list_1))\n",
    "lower_2 = list(map(lambda x: x.lower(),list_2))\n",
    "lower_3 = list(map(lambda x: x.lower(),list_3))\n",
    "filter_cond = lambda x: x if x in lower_3 and x in lower_2\n",
    "final_list = list(filter(filter_cond,lower_1))\n",
    "print(final_list)\n"
   ]
  },
  {
   "cell_type": "code",
   "execution_count": null,
   "id": "8e88fc79-78f2-4ec5-b0ff-63b19d5a10c4",
   "metadata": {},
   "outputs": [],
   "source": []
  }
 ],
 "metadata": {
  "kernelspec": {
   "display_name": "Python 3 (ipykernel)",
   "language": "python",
   "name": "python3"
  },
  "language_info": {
   "codemirror_mode": {
    "name": "ipython",
    "version": 3
   },
   "file_extension": ".py",
   "mimetype": "text/x-python",
   "name": "python",
   "nbconvert_exporter": "python",
   "pygments_lexer": "ipython3",
   "version": "3.12.4"
  }
 },
 "nbformat": 4,
 "nbformat_minor": 5
}
