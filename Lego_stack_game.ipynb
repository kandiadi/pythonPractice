{
 "cells": [
  {
   "cell_type": "code",
   "execution_count": 31,
   "id": "58775df7-b7a3-4b29-97e3-f64afe1defd9",
   "metadata": {},
   "outputs": [
    {
     "name": "stdin",
     "output_type": "stream",
     "text": [
      " [5 ,4, 2, 1, 4 ,5]\n"
     ]
    },
    {
     "name": "stdout",
     "output_type": "stream",
     "text": [
      "6\n",
      "5\n"
     ]
    }
   ],
   "source": [
    "import ast\n",
    "list_lego = ast.literal_eval(input())\n",
    "length_of_lego =len(list_lego)\n",
    "blocks = []\n",
    "print(length_of_lego)\n",
    "print(max(list_lego))\n"
   ]
  },
  {
   "cell_type": "code",
   "execution_count": 35,
   "id": "d12393ae-2e31-4535-afe5-0521599de1ea",
   "metadata": {},
   "outputs": [
    {
     "name": "stdout",
     "output_type": "stream",
     "text": [
      "Possible\n",
      "[5, 5, 4, 4, 2, 1]\n"
     ]
    }
   ],
   "source": [
    "for i in range(length_of_lego):\n",
    "    if list_lego[0] == max(list_lego) or list_lego[-1] == max(list_lego):\n",
    "        flag = 1\n",
    "        if list_lego[0]>=list_lego[-1]:\n",
    "            blocks.append(list_lego[0])\n",
    "            list_lego.pop(0)\n",
    "        else:\n",
    "            blocks.append(list_lego[-1])\n",
    "            list_lego.pop(-1)\n",
    "    else: \n",
    "        flag = 0\n",
    "        break\n",
    "\n",
    "if flag == 0:\n",
    "    print(\"Impossible\")\n",
    "elif flag == 1:\n",
    "    print(\"Possible\")\n",
    "print(blocks)"
   ]
  },
  {
   "cell_type": "code",
   "execution_count": null,
   "id": "67642932-646d-4dfc-84f4-6411e0e9b615",
   "metadata": {},
   "outputs": [],
   "source": []
  }
 ],
 "metadata": {
  "kernelspec": {
   "display_name": "Python 3 (ipykernel)",
   "language": "python",
   "name": "python3"
  },
  "language_info": {
   "codemirror_mode": {
    "name": "ipython",
    "version": 3
   },
   "file_extension": ".py",
   "mimetype": "text/x-python",
   "name": "python",
   "nbconvert_exporter": "python",
   "pygments_lexer": "ipython3",
   "version": "3.12.4"
  }
 },
 "nbformat": 4,
 "nbformat_minor": 5
}
