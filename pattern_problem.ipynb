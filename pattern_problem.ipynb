{
 "cells": [
  {
   "cell_type": "markdown",
   "id": "8ab904eb-960e-4388-934d-b9c25cf691b2",
   "metadata": {},
   "source": [
    "# Print The Pattern\r\n",
    "Description\r\n",
    "Printing different patterns is a very good exercise to reinforce iteration through loops and strong logic building. Here you will be given a positive integer and you will generate pattern based on that integer.\r\n",
    "\r\n",
    "----------------------------------------------------------------------\r\n",
    "Input:\r\n",
    "A positive integer n\r\n",
    "1 <= n <=20\r\n",
    "\r\n",
    "Output:\r\n",
    "A pattern as described by the Sample input and outputs below.\r\n",
    "\r\n",
    "----------------------------------------------------------------------\r\n",
    "Sample input:\r\n",
    "5\r\n",
    "\r\n",
    "Sample output:\r\n",
    "    *\r\n",
    "   *_*\r\n",
    "  *_*_*\r\n",
    " *_*_*_*\r\n",
    "*_*_*_*_*\r\n"
   ]
  },
  {
   "cell_type": "code",
   "execution_count": 24,
   "id": "55129511-7573-4339-94ba-3ced68f17d22",
   "metadata": {},
   "outputs": [
    {
     "name": "stdin",
     "output_type": "stream",
     "text": [
      " 5\n"
     ]
    },
    {
     "name": "stdout",
     "output_type": "stream",
     "text": [
      "    *\n",
      "   *_*\n",
      "  *_*_*\n",
      " *_*_*_*\n",
      "*_*_*_*_*\n"
     ]
    }
   ],
   "source": [
    "n = int(input())\n",
    "\n",
    "for i in range(1,n+1):\n",
    "    for j in range(n-i):\n",
    "        print(\" \",end='')\n",
    "    for k in range(i-1):\n",
    "        print('*_',end='')\n",
    "    print('*')\n",
    "    "
   ]
  },
  {
   "cell_type": "code",
   "execution_count": null,
   "id": "07420593-e4c4-400b-8337-e8115e02be64",
   "metadata": {},
   "outputs": [],
   "source": []
  }
 ],
 "metadata": {
  "kernelspec": {
   "display_name": "Python 3 (ipykernel)",
   "language": "python",
   "name": "python3"
  },
  "language_info": {
   "codemirror_mode": {
    "name": "ipython",
    "version": 3
   },
   "file_extension": ".py",
   "mimetype": "text/x-python",
   "name": "python",
   "nbconvert_exporter": "python",
   "pygments_lexer": "ipython3",
   "version": "3.12.4"
  }
 },
 "nbformat": 4,
 "nbformat_minor": 5
}
