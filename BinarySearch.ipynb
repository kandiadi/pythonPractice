{
 "cells": [
  {
   "cell_type": "code",
   "execution_count": 29,
   "id": "291f3866-b382-4ac0-a939-dba0f03a3056",
   "metadata": {},
   "outputs": [
    {
     "name": "stdin",
     "output_type": "stream",
     "text": [
      " [3,5,7,9,11,13,15,17,19,21,23,25,27]\n",
      " 17\n"
     ]
    },
    {
     "name": "stdout",
     "output_type": "stream",
     "text": [
      "17\n",
      "0,12\n",
      "6\n",
      "15\n",
      "7,12\n",
      "9\n",
      "21\n",
      "7,8\n",
      "7\n",
      "17\n",
      "7\n"
     ]
    }
   ],
   "source": [
    "#take input here\n",
    "import ast\n",
    "sorted_list= ast.literal_eval(input())\n",
    "key=int(input())\n",
    "print(key) #print key value\n",
    "#find the index of key in list\n",
    "def binary_search(sorted_list, key): \n",
    "    left = 0\n",
    "    right = len(sorted_list)-1\n",
    "     #print left and right value\n",
    "    while (left<=right):\n",
    "        print(f'{left},{right}')\n",
    "        mid = (left + right) // 2\n",
    "        print(mid) #print mid\n",
    "        print(sorted_list[mid])\n",
    "              \n",
    "        if sorted_list[mid] == key:\n",
    "              return(mid)\n",
    "        elif sorted_list[mid] < key:\n",
    "            left = mid+1\n",
    "        else: \n",
    "            right = mid-1\n",
    "            \n",
    "    return(-1) \n",
    "    \n",
    "print(binary_search(sorted_list, key))"
   ]
  },
  {
   "cell_type": "markdown",
   "id": "a26e053c-3ee6-42f3-9c4f-c9eb531b4b09",
   "metadata": {},
   "source": [
    "[3,5,7,9,11,13,15,17,19,21,23,25,27]\n"
   ]
  }
 ],
 "metadata": {
  "kernelspec": {
   "display_name": "Python 3 (ipykernel)",
   "language": "python",
   "name": "python3"
  },
  "language_info": {
   "codemirror_mode": {
    "name": "ipython",
    "version": 3
   },
   "file_extension": ".py",
   "mimetype": "text/x-python",
   "name": "python",
   "nbconvert_exporter": "python",
   "pygments_lexer": "ipython3",
   "version": "3.12.4"
  }
 },
 "nbformat": 4,
 "nbformat_minor": 5
}
