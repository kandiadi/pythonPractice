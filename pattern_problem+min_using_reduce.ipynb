{
 "cells": [
  {
   "cell_type": "markdown",
   "id": "8ab904eb-960e-4388-934d-b9c25cf691b2",
   "metadata": {},
   "source": [
    "# Print The Pattern\r\n",
    "Description\r\n",
    "Printing different patterns is a very good exercise to reinforce iteration through loops and strong logic building. Here you will be given a positive integer and you will generate pattern based on that integer.\r\n",
    "\r\n",
    "----------------------------------------------------------------------\r\n",
    "Input:\r\n",
    "A positive integer n\r\n",
    "1 <= n <=20\r\n",
    "\r\n",
    "Output:\r\n",
    "A pattern as described by the Sample input and outputs below.\r\n",
    "\r\n",
    "----------------------------------------------------------------------\r\n",
    "Sample input:\r\n",
    "5\r\n",
    "\r\n",
    "Sample output:\r\n",
    "    *\r\n",
    "   *_*\r\n",
    "  *_*_*\r\n",
    " *_*_*_*\r\n",
    "*_*_*_*_*\r\n"
   ]
  },
  {
   "cell_type": "code",
   "execution_count": 24,
   "id": "55129511-7573-4339-94ba-3ced68f17d22",
   "metadata": {},
   "outputs": [
    {
     "name": "stdin",
     "output_type": "stream",
     "text": [
      " 5\n"
     ]
    },
    {
     "name": "stdout",
     "output_type": "stream",
     "text": [
      "    *\n",
      "   *_*\n",
      "  *_*_*\n",
      " *_*_*_*\n",
      "*_*_*_*_*\n"
     ]
    }
   ],
   "source": [
    "n = int(input())\n",
    "\n",
    "for i in range(1,n+1):\n",
    "    for j in range(n-i):\n",
    "        print(\" \",end='')\n",
    "    for k in range(i-1):\n",
    "        print('*_',end='')\n",
    "    print('*')\n",
    "    "
   ]
  },
  {
   "cell_type": "code",
   "execution_count": 32,
   "id": "07420593-e4c4-400b-8337-e8115e02be64",
   "metadata": {},
   "outputs": [
    {
     "name": "stdin",
     "output_type": "stream",
     "text": [
      " [-3,-6,4,6,2,6]\n"
     ]
    },
    {
     "name": "stdout",
     "output_type": "stream",
     "text": [
      "-6\n"
     ]
    }
   ],
   "source": [
    "from functools import reduce\n",
    "import ast\n",
    "ipt = input()\n",
    "input_list = ast.literal_eval(ipt)\n",
    "\n",
    "func = lambda x,y: y if x>y else x\n",
    "\n",
    "min_number = reduce(func,input_list)\n",
    "print(min_number)"
   ]
  },
  {
   "cell_type": "markdown",
   "id": "f3693f73-64ab-4c9a-9628-681d2b1210d2",
   "metadata": {},
   "source": [
    "# Recruit New Members\r\n",
    "Description\r\n",
    "Suppose you are a manager as a big firm and now are looking for new members for your team. You sent out an advertisement and have received a few applications. You have a habit of scoring people on a scale of 100. You have given scores to all the members of your team and the new applications. The process of selection is going to be very straightforward if the applicant improves the average of the team then you hire the applicant to join the team or else reject the application. Remember the order of processing applications is going to be important here.\r\n",
    "\r\n",
    "\r\n",
    "\r\n",
    "You may see this as an extension of the previous problem, which it is. You may use the code written in the previous question as a function to improve the code quality.\r\n",
    "\r\n",
    "\r\n",
    "\r\n",
    "----------------------------------------------------------------------\r\n",
    "\r\n",
    "Input:\r\n",
    "\r\n",
    "Two lists on two separate lines.\r\n",
    "\r\n",
    "The first line will have the list of scores of current team members\r\n",
    "\r\n",
    "The second line will have the list of scores of the applicants.\r\n",
    "\r\n",
    "\r\n",
    "\r\n",
    "Output:\r\n",
    "\r\n",
    "The list consisting of scores of the final team after hiring from the pool of applicants.\r\n",
    "\r\n",
    "\r\n",
    "\r\n",
    "----------------------------------------------------------------------\r\n",
    "\r\n",
    "Sample input:\r\n",
    "\r\n",
    "[23,45,34,76]\r\n",
    "\r\n",
    "[70,34,94]\r\n",
    "\r\n",
    "\r\n",
    "\r\n",
    "Sample output:\r\n",
    "\r\n",
    "[23, 45, 34, 76, 70, 94]\r\n",
    "\r\n",
    "\r\n",
    "Explanation:"
   ]
  },
  {
   "cell_type": "code",
   "execution_count": 2,
   "id": "484845df-7af9-4957-9c2c-bdaf9f6a03ff",
   "metadata": {},
   "outputs": [
    {
     "name": "stdin",
     "output_type": "stream",
     "text": [
      " [23,45,34,76]\n",
      " [70,34,94]\n"
     ]
    },
    {
     "name": "stdout",
     "output_type": "stream",
     "text": [
      "[23, 45, 34, 76, 70, 94]\n"
     ]
    }
   ],
   "source": [
    "#you have to take input on your own here\n",
    "\n",
    "import statistics, ast\n",
    "\n",
    "team = ast.literal_eval(input())\n",
    "applicants = ast.literal_eval(input())\n",
    "\n",
    "avg_team = statistics.mean(team)\n",
    "#print(avg_team)\n",
    "\n",
    "for i in applicants:\n",
    "    if i>avg_team:\n",
    "        team.append(i)\n",
    "        avg_team = statistics.mean(team)\n",
    "    else:\n",
    "        pass\n",
    "\n",
    "#write your code here\n",
    "print(team)\n",
    "\n",
    "\n"
   ]
  },
  {
   "cell_type": "code",
   "execution_count": null,
   "id": "d9eb49e1-4c35-4c9d-834a-3f519acecf2a",
   "metadata": {},
   "outputs": [],
   "source": []
  }
 ],
 "metadata": {
  "kernelspec": {
   "display_name": "Python 3 (ipykernel)",
   "language": "python",
   "name": "python3"
  },
  "language_info": {
   "codemirror_mode": {
    "name": "ipython",
    "version": 3
   },
   "file_extension": ".py",
   "mimetype": "text/x-python",
   "name": "python",
   "nbconvert_exporter": "python",
   "pygments_lexer": "ipython3",
   "version": "3.12.4"
  }
 },
 "nbformat": 4,
 "nbformat_minor": 5
}
