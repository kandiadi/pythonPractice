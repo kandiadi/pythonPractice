{
 "cells": [
  {
   "cell_type": "markdown",
   "id": "015b19f4-f3f4-4ab1-a31c-e6514b2e5f8b",
   "metadata": {},
   "source": [
    "## Common Prefix\r\n",
    "Description\r\n",
    "You will be given two strings. You have to find the largest prefix common in both the strings.\r\n",
    "\r\n",
    "----------------------------------------------------------------------\r\n",
    "Input:\r\n",
    "Two lines of input, one string on each line\r\n",
    "\r\n",
    "Output:\r\n",
    "The common largest prefix for both strings. Check sample input/output for clarification. -1 if no prefix is common.\r\n",
    "\r\n",
    "----------------------------------------------------------------------\r\n",
    "Sample input:\r\n",
    "abshdksajd\r\n",
    "abshiehand\r\n",
    "\r\n",
    "Sample output:\r\n",
    "absh"
   ]
  },
  {
   "cell_type": "code",
   "execution_count": 18,
   "id": "bbd842db-258c-4475-be1e-5cc53dcf3afd",
   "metadata": {},
   "outputs": [
    {
     "name": "stdin",
     "output_type": "stream",
     "text": [
      " abcdefg\n",
      " abcd\n"
     ]
    },
    {
     "name": "stdout",
     "output_type": "stream",
     "text": [
      "abcd\n"
     ]
    }
   ],
   "source": [
    "#input has been taken for you\n",
    "\n",
    "string1=input()\n",
    "string2=input()\n",
    "string1 = string1.lower()\n",
    "string2 = string2.lower()\n",
    "#start writing your code to find largest common prefix here\n",
    "min_len = min(len(string1),len(string2))\n",
    "\n",
    "for i in range(min_len):\n",
    "    if (string1[i] != string2[i]):\n",
    "        break\n",
    "    elif i == min_len-1:\n",
    "        i+=1\n",
    "\n",
    "if i == 0:\n",
    "    print('-1')\n",
    "else: \n",
    "    print(string1[:i])\n",
    "\n"
   ]
  },
  {
   "cell_type": "code",
   "execution_count": 25,
   "id": "b73bd7e5-8585-4acc-8b20-352b7e042054",
   "metadata": {},
   "outputs": [
    {
     "name": "stdin",
     "output_type": "stream",
     "text": [
      " abddef\n",
      " abdddd\n"
     ]
    },
    {
     "name": "stdout",
     "output_type": "stream",
     "text": [
      "extra in string1 ['e', 'f']\n",
      "extra in string2 ['d', 'd', 'd', 'd']\n"
     ]
    }
   ],
   "source": [
    "#take input on your own\n",
    "string1 = input()\n",
    "string2 = input()\n",
    "\n",
    "l1 = len(string1)\n",
    "l2 = len(string2)\n",
    "\n",
    "extra = []\n",
    "extra2 = []\n",
    "for i in range(l1):\n",
    "    if string1.count(string1[i]) >string2.count(string1[i]):\n",
    "        extra.append(string1[i])\n",
    "for j in range(l2):\n",
    "    if string2.count(string2[j]) >string1.count(string2[j]):\n",
    "        extra2.append(string2[i])\n",
    "print(f'extra in string1 {extra}')\n",
    "print(f'extra in string2 {extra2}')\n",
    "    \n",
    "\n",
    "#write code to find the extra character here\n",
    "\n"
   ]
  },
  {
   "cell_type": "code",
   "execution_count": 3,
   "id": "d2c8fb5e-ba42-4694-852e-8bc64e11e1a0",
   "metadata": {},
   "outputs": [
    {
     "name": "stdin",
     "output_type": "stream",
     "text": [
      " abcde\n"
     ]
    },
    {
     "name": "stdout",
     "output_type": "stream",
     "text": [
      "[1, 1, 1, 1, 1]\n"
     ]
    }
   ],
   "source": [
    "string1 = input()\n",
    "count = []\n",
    "for i in range(len(string1)):\n",
    "    count.append(string1.count(string1[i]))\n",
    "print(count)"
   ]
  },
  {
   "cell_type": "code",
   "execution_count": null,
   "id": "bf8010b1-2e50-4ec7-bbd4-96839cfdcdef",
   "metadata": {},
   "outputs": [],
   "source": [
    "#inut has been taken for you\n",
    "in_str=input()\n",
    "numbers = ['1','2','3','4','5','6','7','8','9','0']\n",
    "string_len = len(in_str)\n",
    "count = 0\n",
    "for i in range(string_len):\n",
    "    if in_str[i] in numbers:\n",
    "        count+=1\n",
    "#print(f'{string_len} {count}')\n",
    "if count != string_len:\n",
    "    print('STR')\n",
    "else:\n",
    "    print('INT')\n",
    "#find out if in_str is integer or not\n",
    "\n"
   ]
  },
  {
   "cell_type": "code",
   "execution_count": null,
   "id": "e6f6b5af-98d7-4e19-b94f-59fdb2a44c5f",
   "metadata": {},
   "outputs": [],
   "source": [
    "#take input here\n",
    "import ast\n",
    "inp_list = ast.literal_eval(input()) \n",
    "d = {}\n",
    "for i in inp_list:\n",
    "    if i not in d:\n",
    "        d[i] = 1\n",
    "    else:\n",
    "        d[i] = d[i]+1\n",
    "#remove duplicates from the list\n",
    "print(list(d.keys()))\n",
    "\n",
    "#print the list without duplicates\n",
    "\n",
    "\n"
   ]
  },
  {
   "cell_type": "code",
   "execution_count": 29,
   "id": "f57140fd-637e-4a09-8c4c-ce9d20c67abf",
   "metadata": {},
   "outputs": [
    {
     "name": "stdin",
     "output_type": "stream",
     "text": [
      " [](){[]()(){}}\n"
     ]
    },
    {
     "name": "stdout",
     "output_type": "stream",
     "text": [
      "Yes\n"
     ]
    }
   ],
   "source": [
    "inp = input()\n",
    "stack = []\n",
    "\n",
    "for i in inp:\n",
    "    if len(stack)==0:\n",
    "        stack.append(i)\n",
    "    else:\n",
    "        if i == ')' and stack[-1] == '(':\n",
    "            stack.pop()\n",
    "        elif i == '}' and stack[-1] == '{':\n",
    "            stack.pop() \n",
    "        elif i == ']' and stack[-1] == '[':\n",
    "            stack.pop()\n",
    "        else: \n",
    "            stack.append(i)\n",
    "\n",
    "if stack:\n",
    "    print('No')\n",
    "else:\n",
    "    print('Yes')"
   ]
  },
  {
   "cell_type": "code",
   "execution_count": null,
   "id": "27fe4510-0a7c-4332-8bb2-2d757cf505f1",
   "metadata": {},
   "outputs": [],
   "source": [
    "#take input here\n",
    "import ast\n",
    "\n",
    "ipt_dict = ast.literal_eval(input())\n",
    "keys = list(ipt_dict.keys())\n",
    "values = list(ipt_dict.values())\n",
    "#start writing your code here\n",
    "min_value = values[0]\n",
    "product = ''\n",
    "for i in ipt_dict:\n",
    "    if ipt_dict[i] < min_value:\n",
    "        min_value = ipt_dict[i]\n",
    "        product = i\n",
    "\n",
    "print(f'{product}: {min_value}')\n",
    "# def find_cheapest_item(items_dict):\n",
    "#   \"\"\"Finds the cheapest item in a dictionary.\n",
    "\n",
    "#   Args:\n",
    "#     items_dict: A dictionary where keys are items and values are their prices.\n",
    "\n",
    "#   Returns:\n",
    "#     A string representing the cheapest item and its price.\n",
    "#   \"\"\"\n",
    "\n",
    "#   cheapest_item = None\n",
    "#   cheapest_price = float('inf')\n",
    "\n",
    "#   for item, price in items_dict.items():\n",
    "#     if price < cheapest_price:\n",
    "#       cheapest_item = item\n",
    "#       cheapest_price = price\n",
    "\n",
    "#   return f\"{cheapest_item}: {cheapest_price}\"\n",
    "\n",
    "# print(find_cheapest_item(ipt_dict))"
   ]
  }
 ],
 "metadata": {
  "kernelspec": {
   "display_name": "Python 3 (ipykernel)",
   "language": "python",
   "name": "python3"
  },
  "language_info": {
   "codemirror_mode": {
    "name": "ipython",
    "version": 3
   },
   "file_extension": ".py",
   "mimetype": "text/x-python",
   "name": "python",
   "nbconvert_exporter": "python",
   "pygments_lexer": "ipython3",
   "version": "3.12.4"
  }
 },
 "nbformat": 4,
 "nbformat_minor": 5
}
