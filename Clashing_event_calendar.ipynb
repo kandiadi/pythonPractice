{
 "cells": [
  {
   "cell_type": "markdown",
   "id": "e657017e-bede-461c-abc1-ce80ba38b5d6",
   "metadata": {},
   "source": [
    "# Calendar\r\n",
    "Description\r\n",
    "You are planning to go to your friend's wedding and you have long events all month, lasting at least a few days. You have the start and end dates of events and your task is to find out events overlapping with the wedding date.\r\n",
    "\r\n",
    "The code for taking input has already been written for you, please don't modify that, but do read and try to understand the way input has been taken. You will be asked to take input on your own for most of the problems here onwards. Taking data in a suitable format is an important skill for a Data Scientist.\r\n",
    "\r\n",
    "----------------------------------------------------------------------\r\n",
    "Input:\r\n",
    "The input will contain a list of lists where each sub-list has only two elements representing the start and end date of an event, the start date will be less than or equal to the end date. The next line of input will have a wedding date. \r\n",
    "\r\n",
    "Output:\r\n",
    "The output should have the number of events overlapping with the wedding date.\r\n",
    "\r\n",
    "----------------------------------------------------------------------\r\n",
    "Sample input:\r\n",
    "[ [29,31], [23,26], [24,25] ]\r\n",
    "24\r\n",
    "\r\n",
    "Sample output:\r\n",
    "2\r\n",
    "\r\n",
    "Explanation:\r\n",
    "There are three events in the month.\r\n",
    "Event 1= from date 29 to 31\r\n",
    "Event 2= from date 23 to 26\r\n",
    "Event 3= from date 24 to 25\r\n",
    "Wedding is on 24. This means it will clash with Event 3 and Event 2, that is two events. The output is therefore 2.\r\n",
    "\r\n",
    "----------------------------------------------------------------------\r\n",
    "Sample input:\r\n",
    "[ [1, 4], [7, 10], [8, 8], [14, 23] ]\r\n",
    "26\r\n",
    "\r\n",
    "Sample output:\r\n",
    "0"
   ]
  },
  {
   "cell_type": "code",
   "execution_count": 2,
   "id": "fd6c8524-4b23-4780-a81f-08c014afb380",
   "metadata": {},
   "outputs": [
    {
     "name": "stdin",
     "output_type": "stream",
     "text": [
      " [ [29,31], [23,26], [24,25] ]\n",
      " 24\n"
     ]
    },
    {
     "name": "stdout",
     "output_type": "stream",
     "text": [
      "2\n"
     ]
    }
   ],
   "source": [
    "#taking input\n",
    "import ast\n",
    "input_str1 = input()\n",
    "input_list1 = ast.literal_eval(input_str1)\n",
    "events = input_list1\n",
    "\n",
    "wedding = int(input())\n",
    "clash = 0\n",
    "for event in events:\n",
    "    if event[0]<=wedding and event[1]>=wedding:\n",
    "        clash = clash+1\n",
    "\n",
    "#start writing from here\n",
    "print(clash)\n",
    "\n"
   ]
  },
  {
   "cell_type": "markdown",
   "id": "0dd50375-8e3f-4e13-bd25-fa61a5ebb709",
   "metadata": {},
   "source": [
    "# Fenced Matrix\r\n",
    "Description\r\n",
    "You will be given two positive integers m and n. You have to make a list of lists (which can be visualised as a matrix) of size m*n, that is m sublists (rows), with each sublists having n integers (columns). The matrix should be such that it should have 1 on the border and 0 everywhere else. See sample input and output for more clarification.\r\n",
    "\r\n",
    "----------------------------------------------------------------------\r\n",
    "Input:\r\n",
    "Two integers separated by a space\r\n",
    "\r\n",
    "Output:\r\n",
    "A list of lists of size m*n printed like matrix as shown in the sample output.\r\n",
    "\r\n",
    "----------------------------------------------------------------------\r\n",
    "Sample input:\r\n",
    "4,5\r\n",
    "\r\n",
    "Sample output:\r\n",
    "[1, 1, 1, 1, 1]\r\n",
    "[1, 0, 0, 0, 1]\r\n",
    "[1, 0, 0, 0, 1]\r\n",
    "[1, 1, 1, 1, 1]"
   ]
  },
  {
   "cell_type": "code",
   "execution_count": 4,
   "id": "dba187d6-f9c3-4032-9a4d-635b71c9b8cc",
   "metadata": {},
   "outputs": [
    {
     "name": "stdin",
     "output_type": "stream",
     "text": [
      " 3,2\n"
     ]
    },
    {
     "name": "stdout",
     "output_type": "stream",
     "text": [
      "[1, 1]\n",
      "[1, 1]\n",
      "[1, 1]\n"
     ]
    }
   ],
   "source": [
    "#take input on your own here\n",
    "import ast\n",
    "dimension = ast.literal_eval(input())\n",
    "rows = dimension[0]\n",
    "columns = dimension[1]\n",
    "inp_list = [0]*columns\n",
    "final_list = [list(inp_list) for i in range(rows)]\n",
    "for i in range(rows):\n",
    "    for j in range(columns):\n",
    "        if i==0 or j==0 or i==rows-1 or j==columns-1:\n",
    "            final_list[i][j]=1\n",
    "#start writing code here\n",
    "\n",
    "for i in final_list:\n",
    "    print(i)"
   ]
  },
  {
   "cell_type": "code",
   "execution_count": null,
   "id": "b82ea922-3cb0-4775-b11f-fa0db15d08ae",
   "metadata": {},
   "outputs": [],
   "source": []
  }
 ],
 "metadata": {
  "kernelspec": {
   "display_name": "Python 3 (ipykernel)",
   "language": "python",
   "name": "python3"
  },
  "language_info": {
   "codemirror_mode": {
    "name": "ipython",
    "version": 3
   },
   "file_extension": ".py",
   "mimetype": "text/x-python",
   "name": "python",
   "nbconvert_exporter": "python",
   "pygments_lexer": "ipython3",
   "version": "3.12.4"
  }
 },
 "nbformat": 4,
 "nbformat_minor": 5
}
