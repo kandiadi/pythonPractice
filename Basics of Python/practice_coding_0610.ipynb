{
 "cells": [
  {
   "cell_type": "code",
   "execution_count": 23,
   "id": "f6400c94-f9f1-452f-bc0d-e9cf33e79f2b",
   "metadata": {},
   "outputs": [
    {
     "name": "stdout",
     "output_type": "stream",
     "text": [
      "odd list is [15, 17, 19, 21, 23, 25]\n",
      "even list is [16, 18, 20, 22, 24]\n"
     ]
    }
   ],
   "source": [
    "#1\n",
    "odd =[]\n",
    "even = []\n",
    "for i in range(15,26):\n",
    "    if i%2 == 0:\n",
    "        even.append(i)\n",
    "    else:\n",
    "        odd.append(i)\n",
    "\n",
    "print(f'odd list is {odd}')\n",
    "print(f'even list is {even}')"
   ]
  },
  {
   "cell_type": "code",
   "execution_count": 5,
   "id": "b1ebe44c-9f5c-4213-b824-a33d957cd4ea",
   "metadata": {},
   "outputs": [
    {
     "name": "stdout",
     "output_type": "stream",
     "text": [
      "110\n"
     ]
    }
   ],
   "source": [
    "#2\n",
    "inp_list = [3,6,1,23,74,3]\n",
    "sum_otp = sum(inp_list)\n",
    "print(sum_otp)"
   ]
  },
  {
   "cell_type": "code",
   "execution_count": 49,
   "id": "5cc3d706-acfa-433b-9bc0-0365ff6ab923",
   "metadata": {},
   "outputs": [
    {
     "name": "stdout",
     "output_type": "stream",
     "text": [
      "496\n"
     ]
    }
   ],
   "source": [
    "#3\n",
    "from functools import reduce\n",
    "\n",
    "inp_list = [1, 44, 7, 24, 3, 450, 2, 5]\n",
    "\n",
    "lam = lambda sum, x: sum + x**3 if x % 2 != 0 else sum\n",
    "\n",
    "result = reduce(my_lambda, inp_list, 0)  # Use 0 as the initial value for the sum\n",
    "print(result)"
   ]
  },
  {
   "cell_type": "code",
   "execution_count": 11,
   "id": "75e107c3-a0bd-4ae8-b6e3-79957624a482",
   "metadata": {},
   "outputs": [
    {
     "name": "stdout",
     "output_type": "stream",
     "text": [
      "450\n"
     ]
    }
   ],
   "source": [
    "#4\n",
    "inp_list = [1,44,7,24,3,450,2,5]\n",
    "max = 0\n",
    "for i in range(len(inp_list)):\n",
    "    if inp_list[i]>=max:\n",
    "        max = inp_list[i]\n",
    "    else:\n",
    "        pass\n",
    "print(max) "
   ]
  },
  {
   "cell_type": "code",
   "execution_count": 15,
   "id": "9b02c331-9751-416c-ba37-cf62f5eceb02",
   "metadata": {},
   "outputs": [
    {
     "name": "stdout",
     "output_type": "stream",
     "text": [
      "1\n"
     ]
    }
   ],
   "source": [
    "#5\n",
    "inp_tup = (3,5,1,9,4)\n",
    "min = inp_tup[0]\n",
    "for i in range(len(inp_list)):\n",
    "    if inp_list[i]<=min:\n",
    "        min = inp_list[i]\n",
    "    else:\n",
    "        pass\n",
    "print(min) "
   ]
  },
  {
   "cell_type": "code",
   "execution_count": 21,
   "id": "b2c369d3-0f58-48d1-b708-1ce8359896c4",
   "metadata": {},
   "outputs": [
    {
     "name": "stdout",
     "output_type": "stream",
     "text": [
      "[45, 0, 1, 6]\n"
     ]
    }
   ],
   "source": [
    "#6\n",
    "inp_tup2 = (-88,45,-23,0,1,6,-7)\n",
    "list1 = [num for num in inp_tup2 if num>=0]\n",
    "print(list1)"
   ]
  },
  {
   "cell_type": "code",
   "execution_count": 65,
   "id": "e3baa11d-9ba7-4a6b-9d78-efbafd2bb40e",
   "metadata": {},
   "outputs": [
    {
     "ename": "NameError",
     "evalue": "name 'value' is not defined",
     "output_type": "error",
     "traceback": [
      "\u001b[1;31m---------------------------------------------------------------------------\u001b[0m",
      "\u001b[1;31mNameError\u001b[0m                                 Traceback (most recent call last)",
      "Cell \u001b[1;32mIn[65], line 6\u001b[0m\n\u001b[0;32m      3\u001b[0m group2 \u001b[38;5;241m=\u001b[39m {\u001b[38;5;124m'\u001b[39m\u001b[38;5;124mmanager\u001b[39m\u001b[38;5;124m'\u001b[39m: \u001b[38;5;241m80\u001b[39m, \u001b[38;5;124m'\u001b[39m\u001b[38;5;124mdeveloper\u001b[39m\u001b[38;5;124m'\u001b[39m: \u001b[38;5;241m150\u001b[39m}\n\u001b[0;32m      5\u001b[0m \u001b[38;5;28;01mfor\u001b[39;00m key \u001b[38;5;129;01min\u001b[39;00m group2:\n\u001b[1;32m----> 6\u001b[0m     group1[key] \u001b[38;5;241m=\u001b[39m value(group2)\n\u001b[0;32m      8\u001b[0m \u001b[38;5;28mprint\u001b[39m(group1)\n",
      "\u001b[1;31mNameError\u001b[0m: name 'value' is not defined"
     ]
    }
   ],
   "source": [
    "\n",
    "\n",
    "\n",
    "# Example usage:\n",
    "group1 = {'HR': 30, 'Acc': 90}\n",
    "group2 = {'manager': 80, 'developer': 150}\n",
    "\n",
    "for key in group2:\n",
    "    group1[key] = value(group2)\n",
    "\n",
    "print(group1)"
   ]
  },
  {
   "cell_type": "code",
   "execution_count": 93,
   "id": "889bd589-6054-4968-bd77-a5fc3aca2ab1",
   "metadata": {},
   "outputs": [
    {
     "name": "stdout",
     "output_type": "stream",
     "text": [
      "help me\n"
     ]
    }
   ],
   "source": [
    "list1 = ['hiii','welcome',[3,79],['A','b','D',[10,12,30,105,900,[\"help me\"]]],44,910]\n",
    "print(list1[3][3][-1][0])"
   ]
  },
  {
   "cell_type": "code",
   "execution_count": 91,
   "id": "0545a063-e8b6-4bd7-9d9b-99f54ef19395",
   "metadata": {},
   "outputs": [
    {
     "name": "stdout",
     "output_type": "stream",
     "text": [
      "key\n"
     ]
    }
   ],
   "source": [
    " #find key \n",
    "dict1 = {'MN':['ab','bc','cd','pq', {'mn':['mumbai','chennai',{'india': ['delhi','key','jaypur']}]}]}\n",
    "print(dict1['MN'][4]['mn'][2]['india'][1])"
   ]
  },
  {
   "cell_type": "code",
   "execution_count": null,
   "id": "b93dbb41-d27e-4fe6-bacd-fda2f97e526f",
   "metadata": {},
   "outputs": [],
   "source": [
    "import ast,sys\n",
    "input_str = sys.stdin.read()\n",
    "input_list = ast.literal_eval(input_str)\n",
    "list_1 = input_list[0]\n",
    "list_2 = input_list[1]\n",
    "set_1 = set(list_1)\n",
    "set_2 = set(list_2)\n",
    "#Type your answer here\n",
    "answer = set_1.intersection(set_2)\n",
    "print(list(answer))\n"
   ]
  }
 ],
 "metadata": {
  "kernelspec": {
   "display_name": "Python 3 (ipykernel)",
   "language": "python",
   "name": "python3"
  },
  "language_info": {
   "codemirror_mode": {
    "name": "ipython",
    "version": 3
   },
   "file_extension": ".py",
   "mimetype": "text/x-python",
   "name": "python",
   "nbconvert_exporter": "python",
   "pygments_lexer": "ipython3",
   "version": "3.12.4"
  }
 },
 "nbformat": 4,
 "nbformat_minor": 5
}
