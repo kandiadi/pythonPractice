{
 "cells": [
  {
   "cell_type": "markdown",
   "id": "02dd3abf-f4f6-41a2-8460-ecd86fdd4014",
   "metadata": {},
   "source": [
    "# Description\r\n",
    "Sanjay loves chocolates. He goes to a shop to buy his favourite chocolate. There he notices there is an offer going on, upon bringing 3 wrappers of the same chocolate, you will get new chocolate for free. If Sanjay has m Rupees. How many chocolates will he be able to eat if each chocolate costs c Rupees?\r\n",
    "\r\n",
    "----------------------------------------------------------------------\r\n",
    "Input:\r\n",
    "Two positive integers m and c separated by a comma. The first integer is m and the second integer is c \r\n",
    "\r\n",
    "Output:\r\n",
    "A single integer denoting the number of chocolates Sanjay was able to eat in total.\r\n",
    "\r\n",
    "----------------------------------------------------------------------\r\n",
    "Sample input:\r\n",
    "15, 2\r\n",
    "\r\n",
    "Sample output:\r\n",
    "10\r\n",
    "\r\n",
    "Explanation:\r\n",
    "First, he will get 15/2=7 chocolates. He then will return 6 wrappers for 2 chocolates. And lastly, these two wrappers and the one he previously had will get him one more chocolate, making a total of 7+2+1=10 chocolates.\r\n",
    "\r\n",
    "----------------------------------------------------------------------\r\n",
    "Sample input:\r\n",
    "3,1\r\n",
    "\r\n",
    "Sample output:\r\n",
    "4\r\n"
   ]
  },
  {
   "cell_type": "code",
   "execution_count": 15,
   "id": "c8488d7e-1b16-4840-917f-f7fb4ea2f62c",
   "metadata": {},
   "outputs": [
    {
     "name": "stdin",
     "output_type": "stream",
     "text": [
      " 15,2\n"
     ]
    },
    {
     "name": "stdout",
     "output_type": "stream",
     "text": [
      "10\n"
     ]
    }
   ],
   "source": [
    "import ast\n",
    "inp_str = input()\n",
    "inp_tup = ast.literal_eval(inp_str)\n",
    "#print(inp_tup)\n",
    "\n",
    "money = inp_tup[0]\n",
    "cost = inp_tup[1]\n",
    "\n",
    "chocolates = money//cost\n",
    "wrappers = money//cost\n",
    "while (chocolates //3 != 0):\n",
    "    wrappers = wrappers + (chocolates//3)\n",
    "    chocolates = chocolates//3 + chocolates%3\n",
    "\n",
    "print(wrappers)\n"
   ]
  },
  {
   "cell_type": "code",
   "execution_count": null,
   "id": "9ef21abf-0709-4e48-bada-59d5ced044df",
   "metadata": {},
   "outputs": [],
   "source": []
  }
 ],
 "metadata": {
  "kernelspec": {
   "display_name": "Python 3 (ipykernel)",
   "language": "python",
   "name": "python3"
  },
  "language_info": {
   "codemirror_mode": {
    "name": "ipython",
    "version": 3
   },
   "file_extension": ".py",
   "mimetype": "text/x-python",
   "name": "python",
   "nbconvert_exporter": "python",
   "pygments_lexer": "ipython3",
   "version": "3.12.4"
  }
 },
 "nbformat": 4,
 "nbformat_minor": 5
}
