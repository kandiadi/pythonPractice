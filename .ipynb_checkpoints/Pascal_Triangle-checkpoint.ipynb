{
 "cells": [
  {
   "cell_type": "markdown",
   "id": "f8d9e6e4-d519-45b8-b0d6-2aa548b20b0d",
   "metadata": {},
   "source": [
    "## Pascal's Triangle\r\n",
    "Description\r\n",
    "A pascal's triangle is a very interesting mathematical concept.\r\n",
    "Each number here is a sum of the two numbers directly above it.\r\n",
    "Following is an 8 level Pascal's triangle:﻿\r\n",
    "﻿\r\n",
    "You can read about Pascal's triangle here.\r\n",
    "Your task is to print an nth level of Pascal's triangle.\r\n",
    "The input will contain an integer n.\r\n",
    "The output will contain 1 line of the list of numbers representing the nth row of Pascal's triangle.\r\n",
    "\r\n",
    "Sample Input:\r\n",
    "6\r\n",
    "Sample Output:\r\n",
    "\r\n",
    "[1, 5, 10, 10, 5, 1]"
   ]
  },
  {
   "cell_type": "code",
   "execution_count": 72,
   "id": "90759b09-87bd-4c5a-96da-ac1b82f85788",
   "metadata": {},
   "outputs": [
    {
     "name": "stdin",
     "output_type": "stream",
     "text": [
      " 10\n"
     ]
    },
    {
     "name": "stdout",
     "output_type": "stream",
     "text": [
      "[1, 9, 36, 84, 126, 126, 84, 36, 9, 1]\n"
     ]
    }
   ],
   "source": [
    "inp_number = int(input())\n",
    "row_current = [1,1]\n",
    "if inp_number == 1: \n",
    "    print(row_current[0])\n",
    "elif inp_number == 2: \n",
    "    print(row_current)\n",
    "else:\n",
    "    for i in range(3,inp_number+1):\n",
    "        row_new = []\n",
    "        for n in range(1,i+1):\n",
    "            if n == 1 or n == i:\n",
    "                row_new.append(row_current[0])\n",
    "            else:\n",
    "                row_new.append(row_current[n-1]+row_current[n-2])\n",
    "        row_current = row_new\n",
    "print(row_current)\n",
    "\n"
   ]
  },
  {
   "cell_type": "code",
   "execution_count": 22,
   "id": "bf89eadf-3af2-47c5-b13f-21c356f3ba5a",
   "metadata": {},
   "outputs": [
    {
     "name": "stdin",
     "output_type": "stream",
     "text": [
      " 6\n"
     ]
    },
    {
     "name": "stdout",
     "output_type": "stream",
     "text": [
      "[0, 1, 1, 2, 3, 5]\n"
     ]
    }
   ],
   "source": [
    "#fibonacci series example processing\n",
    "inp_number = int(input())\n",
    "n=1\n",
    "fib_series = []\n",
    "a = [0,1]\n",
    "for i in range(2,inp_number):\n",
    "    new_number = a[i-1]+a[i-2]\n",
    "    a.append(new_number)\n",
    "print(a)"
   ]
  }
 ],
 "metadata": {
  "kernelspec": {
   "display_name": "Python 3 (ipykernel)",
   "language": "python",
   "name": "python3"
  },
  "language_info": {
   "codemirror_mode": {
    "name": "ipython",
    "version": 3
   },
   "file_extension": ".py",
   "mimetype": "text/x-python",
   "name": "python",
   "nbconvert_exporter": "python",
   "pygments_lexer": "ipython3",
   "version": "3.12.4"
  }
 },
 "nbformat": 4,
 "nbformat_minor": 5
}
