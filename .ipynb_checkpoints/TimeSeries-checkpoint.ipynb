{
 "cells": [
  {
   "cell_type": "code",
   "execution_count": 9,
   "id": "63ba2b98-4c2d-4de4-8690-d1242fa63354",
   "metadata": {},
   "outputs": [
    {
     "name": "stdout",
     "output_type": "stream",
     "text": [
      "0.0\n"
     ]
    }
   ],
   "source": [
    "import time \n",
    "mylist=[1,2,3] #fill up the list with some integer values, as many as you want\n",
    "k= 20\n",
    "start = time.process_time() \n",
    "for i in range(len(mylist)):\n",
    "\tif mylist[i]==k:\n",
    "\t\tprint(i)\n",
    "print(time.process_time() - start)"
   ]
  },
  {
   "cell_type": "code",
   "execution_count": null,
   "id": "78ad6435-6d62-4744-adc1-c97280883007",
   "metadata": {},
   "outputs": [],
   "source": [
    "#take input here\n",
    "import ast\n",
    "data_list=ast.literal_eval(input())\n",
    "key = input()\n",
    "index = -1\n",
    "for i in range(len(data_list)):\n",
    "    if str(data_list[i]) == str(key):\n",
    "        index = i\n",
    "        break\n",
    "    else:\n",
    "        pass\n",
    "    # print(f'{data_list[i]},{key} ,{index}')\n",
    "print(index)\n",
    "#find the index of the key in data_list here\n",
    "\n",
    "\n"
   ]
  }
 ],
 "metadata": {
  "kernelspec": {
   "display_name": "Python 3 (ipykernel)",
   "language": "python",
   "name": "python3"
  },
  "language_info": {
   "codemirror_mode": {
    "name": "ipython",
    "version": 3
   },
   "file_extension": ".py",
   "mimetype": "text/x-python",
   "name": "python",
   "nbconvert_exporter": "python",
   "pygments_lexer": "ipython3",
   "version": "3.12.4"
  }
 },
 "nbformat": 4,
 "nbformat_minor": 5
}
