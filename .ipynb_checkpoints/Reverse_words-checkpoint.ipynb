{
 "cells": [
  {
   "cell_type": "markdown",
   "id": "e77cffc3-47e9-4bfb-9001-ab26b83897cf",
   "metadata": {},
   "source": [
    "# Reverse Words\r\n",
    "Description\r\n",
    "You will be given a sentence in the form of a string. You have to reverse the order of the words in the sentence. Remember not to reverse the individual words, but the order of words. Check the sample input-output for further clarification.\r\n",
    "\r\n",
    "----------------------------------------------------------------------\r\n",
    "Input:\r\n",
    "A string, which will consist of a few spaces.\r\n",
    "\r\n",
    "Output:\r\n",
    "The words in reverse order.\r\n",
    "\r\n",
    "----------------------------------------------------------------------\r\n",
    "Sample input:\r\n",
    "I love coding in python\r\n",
    "\r\n",
    "Sample output:\r\n",
    "python in coding love I"
   ]
  },
  {
   "cell_type": "code",
   "execution_count": 38,
   "id": "3389bac7-5355-47de-a19e-839b91784849",
   "metadata": {},
   "outputs": [
    {
     "name": "stdin",
     "output_type": "stream",
     "text": [
      " I love coding in python\n"
     ]
    },
    {
     "name": "stdout",
     "output_type": "stream",
     "text": [
      "python in coding love I\n"
     ]
    }
   ],
   "source": [
    "#take input here\n",
    "\n",
    "sentence=input()\n",
    "sentence_list = sentence.split(\" \")\n",
    "#print(sentence_list)\n",
    "reverse_list = []\n",
    "#reverse the words of the sentence here\n",
    "for i in range(1,len(sentence_list)+1):\n",
    "    reverse_list.append(sentence_list[-i])\n",
    "    \n",
    "#print(reverse_list)\n",
    "print(\" \".join(reverse_list))\n",
    "\n"
   ]
  },
  {
   "cell_type": "code",
   "execution_count": 40,
   "id": "63e1b4db-ed45-4018-9d0e-e53f23562cc3",
   "metadata": {},
   "outputs": [
    {
     "name": "stdin",
     "output_type": "stream",
     "text": [
      " I love coding in python\n"
     ]
    },
    {
     "name": "stdout",
     "output_type": "stream",
     "text": [
      "python in coding love I\n"
     ]
    }
   ],
   "source": [
    "sentence=input()\n",
    "sentence_list = sentence.split(\" \")\n",
    "#print(sentence_list)\n",
    "reverse_list = sentence_list[::-1]\n",
    "#reverse the words of the sentence here\n",
    "\n",
    "    \n",
    "#print(reverse_list)\n",
    "print(\" \".join(reverse_list))"
   ]
  },
  {
   "cell_type": "code",
   "execution_count": 1,
   "id": "f8f802ce-1e3f-42a0-943b-cd6ad65bd463",
   "metadata": {},
   "outputs": [
    {
     "name": "stdin",
     "output_type": "stream",
     "text": [
      " I love coding in python\n"
     ]
    },
    {
     "name": "stdout",
     "output_type": "stream",
     "text": [
      "I_Love_Coding_In_Python\n"
     ]
    }
   ],
   "source": [
    "#take input here\n",
    "s=input()\n",
    "lower_s = s.lower()\n",
    "words = lower_s.split(\" \")\n",
    "cap_first = [words[0].upper()+words[1:] for words in words]\n",
    "#write code to format the string s as asked \n",
    "final_word = \"_\".join(cap_first)\n",
    "print(final_word)\n",
    "\n",
    "\n"
   ]
  },
  {
   "cell_type": "code",
   "execution_count": 3,
   "id": "d707bf37-80cf-42ae-ad50-c98c39d79bf1",
   "metadata": {},
   "outputs": [
    {
     "name": "stdin",
     "output_type": "stream",
     "text": [
      " I love coding in python\n"
     ]
    },
    {
     "name": "stdout",
     "output_type": "stream",
     "text": [
      "Ioeoiio lv cdng n pythn\n"
     ]
    }
   ],
   "source": [
    "# Read the input string\n",
    "\n",
    "s = input()\n",
    "vowels = 'aeiouAEIOU'\n",
    "v=\"\"\n",
    "o = \"\"\n",
    "for i in s:\n",
    "    if i in vowels:\n",
    "        v=v+i\n",
    "    else:\n",
    "        o=o+i\n",
    "        \n",
    "final = v+o\n",
    "print(final)"
   ]
  },
  {
   "cell_type": "code",
   "execution_count": null,
   "id": "d1baf25b-8d74-4a83-9fdd-9389d334ca22",
   "metadata": {},
   "outputs": [],
   "source": []
  }
 ],
 "metadata": {
  "kernelspec": {
   "display_name": "Python 3 (ipykernel)",
   "language": "python",
   "name": "python3"
  },
  "language_info": {
   "codemirror_mode": {
    "name": "ipython",
    "version": 3
   },
   "file_extension": ".py",
   "mimetype": "text/x-python",
   "name": "python",
   "nbconvert_exporter": "python",
   "pygments_lexer": "ipython3",
   "version": "3.12.4"
  }
 },
 "nbformat": 4,
 "nbformat_minor": 5
}
