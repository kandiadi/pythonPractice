{
 "cells": [
  {
   "cell_type": "code",
   "execution_count": 29,
   "id": "291f3866-b382-4ac0-a939-dba0f03a3056",
   "metadata": {},
   "outputs": [
    {
     "name": "stdin",
     "output_type": "stream",
     "text": [
      " [3,5,7,9,11,13,15,17,19,21,23,25,27]\n",
      " 17\n"
     ]
    },
    {
     "name": "stdout",
     "output_type": "stream",
     "text": [
      "17\n",
      "0,12\n",
      "6\n",
      "15\n",
      "7,12\n",
      "9\n",
      "21\n",
      "7,8\n",
      "7\n",
      "17\n",
      "7\n"
     ]
    }
   ],
   "source": [
    "#take input here\n",
    "import ast\n",
    "sorted_list= ast.literal_eval(input())\n",
    "key=int(input())\n",
    "print(key) #print key value\n",
    "#find the index of key in list\n",
    "def binary_search(sorted_list, key): \n",
    "    left = 0\n",
    "    right = len(sorted_list)-1\n",
    "     #print left and right value\n",
    "    while (left<=right):\n",
    "        print(f'{left},{right}')\n",
    "        mid = (left + right) // 2\n",
    "        print(mid) #print mid\n",
    "        print(sorted_list[mid])\n",
    "              \n",
    "        if sorted_list[mid] == key:\n",
    "              return(mid)\n",
    "        elif sorted_list[mid] < key:\n",
    "            left = mid+1\n",
    "        else: \n",
    "            right = mid-1\n",
    "            \n",
    "    return(-1) \n",
    "    \n",
    "print(binary_search(sorted_list, key))"
   ]
  },
  {
   "cell_type": "code",
   "execution_count": 17,
   "id": "dd0a3e91-e434-46a2-bf77-f79919153951",
   "metadata": {},
   "outputs": [
    {
     "ename": "KeyboardInterrupt",
     "evalue": "Interrupted by user",
     "output_type": "error",
     "traceback": [
      "\u001b[1;31m---------------------------------------------------------------------------\u001b[0m",
      "\u001b[1;31mKeyboardInterrupt\u001b[0m                         Traceback (most recent call last)",
      "Cell \u001b[1;32mIn[17], line 3\u001b[0m\n\u001b[0;32m      1\u001b[0m \u001b[38;5;66;03m#take input on your own\u001b[39;00m\n\u001b[0;32m      2\u001b[0m \u001b[38;5;28;01mimport\u001b[39;00m \u001b[38;5;21;01mast\u001b[39;00m\n\u001b[1;32m----> 3\u001b[0m inp_list \u001b[38;5;241m=\u001b[39m ast\u001b[38;5;241m.\u001b[39mliteral_eval(\u001b[38;5;28minput\u001b[39m())\n\u001b[0;32m      4\u001b[0m key \u001b[38;5;241m=\u001b[39m \u001b[38;5;28mint\u001b[39m(\u001b[38;5;28minput\u001b[39m())\n\u001b[0;32m      5\u001b[0m \u001b[38;5;66;03m#find key in rotated list\u001b[39;00m\n",
      "File \u001b[1;32m~\\anaconda3\\Lib\\site-packages\\ipykernel\\kernelbase.py:1262\u001b[0m, in \u001b[0;36mKernel.raw_input\u001b[1;34m(self, prompt)\u001b[0m\n\u001b[0;32m   1260\u001b[0m     msg \u001b[38;5;241m=\u001b[39m \u001b[38;5;124m\"\u001b[39m\u001b[38;5;124mraw_input was called, but this frontend does not support input requests.\u001b[39m\u001b[38;5;124m\"\u001b[39m\n\u001b[0;32m   1261\u001b[0m     \u001b[38;5;28;01mraise\u001b[39;00m StdinNotImplementedError(msg)\n\u001b[1;32m-> 1262\u001b[0m \u001b[38;5;28;01mreturn\u001b[39;00m \u001b[38;5;28mself\u001b[39m\u001b[38;5;241m.\u001b[39m_input_request(\n\u001b[0;32m   1263\u001b[0m     \u001b[38;5;28mstr\u001b[39m(prompt),\n\u001b[0;32m   1264\u001b[0m     \u001b[38;5;28mself\u001b[39m\u001b[38;5;241m.\u001b[39m_parent_ident[\u001b[38;5;124m\"\u001b[39m\u001b[38;5;124mshell\u001b[39m\u001b[38;5;124m\"\u001b[39m],\n\u001b[0;32m   1265\u001b[0m     \u001b[38;5;28mself\u001b[39m\u001b[38;5;241m.\u001b[39mget_parent(\u001b[38;5;124m\"\u001b[39m\u001b[38;5;124mshell\u001b[39m\u001b[38;5;124m\"\u001b[39m),\n\u001b[0;32m   1266\u001b[0m     password\u001b[38;5;241m=\u001b[39m\u001b[38;5;28;01mFalse\u001b[39;00m,\n\u001b[0;32m   1267\u001b[0m )\n",
      "File \u001b[1;32m~\\anaconda3\\Lib\\site-packages\\ipykernel\\kernelbase.py:1305\u001b[0m, in \u001b[0;36mKernel._input_request\u001b[1;34m(self, prompt, ident, parent, password)\u001b[0m\n\u001b[0;32m   1302\u001b[0m \u001b[38;5;28;01mexcept\u001b[39;00m \u001b[38;5;167;01mKeyboardInterrupt\u001b[39;00m:\n\u001b[0;32m   1303\u001b[0m     \u001b[38;5;66;03m# re-raise KeyboardInterrupt, to truncate traceback\u001b[39;00m\n\u001b[0;32m   1304\u001b[0m     msg \u001b[38;5;241m=\u001b[39m \u001b[38;5;124m\"\u001b[39m\u001b[38;5;124mInterrupted by user\u001b[39m\u001b[38;5;124m\"\u001b[39m\n\u001b[1;32m-> 1305\u001b[0m     \u001b[38;5;28;01mraise\u001b[39;00m \u001b[38;5;167;01mKeyboardInterrupt\u001b[39;00m(msg) \u001b[38;5;28;01mfrom\u001b[39;00m \u001b[38;5;28;01mNone\u001b[39;00m\n\u001b[0;32m   1306\u001b[0m \u001b[38;5;28;01mexcept\u001b[39;00m \u001b[38;5;167;01mException\u001b[39;00m:\n\u001b[0;32m   1307\u001b[0m     \u001b[38;5;28mself\u001b[39m\u001b[38;5;241m.\u001b[39mlog\u001b[38;5;241m.\u001b[39mwarning(\u001b[38;5;124m\"\u001b[39m\u001b[38;5;124mInvalid Message:\u001b[39m\u001b[38;5;124m\"\u001b[39m, exc_info\u001b[38;5;241m=\u001b[39m\u001b[38;5;28;01mTrue\u001b[39;00m)\n",
      "\u001b[1;31mKeyboardInterrupt\u001b[0m: Interrupted by user"
     ]
    }
   ],
   "source": [
    "#take input on your own\n",
    "import ast\n",
    "inp_list = ast.literal_eval(input())\n",
    "key = int(input())\n",
    "#find key in rotated list\n",
    "def rotated_binary(data,key):\n",
    "    l=0\n",
    "    r = len(data) - 1\n",
    "    \n",
    "    while(l<=r):\n",
    "        #print(f'{l},{r}')\n",
    "        mid = (l+r)//2\n",
    "        #print(f'mid is {mid}')\n",
    "        if data[mid] == key:\n",
    "            return mid\n",
    "        elif data[l]<=data[mid]:\n",
    "            if key>=data[l] and key <= data[mid]:\n",
    "                r = mid -1 \n",
    "            else:\n",
    "                l = mid +1\n",
    "        elif data[l]> data[mid]:\n",
    "            if key>=data[mid] and key<=data[r]:\n",
    "                l = mid + 1\n",
    "            else:\n",
    "                r = mid -1\n",
    "    return -1 \n",
    "\n",
    "print(rotated_binary(inp_list,key))"
   ]
  },
  {
   "cell_type": "code",
   "execution_count": 12,
   "id": "fe1dc824-f337-433a-982f-6252ebcfb560",
   "metadata": {},
   "outputs": [
    {
     "name": "stdin",
     "output_type": "stream",
     "text": [
      " [13, 11, 8, 7, 6, 4, 3, 2, 1, 14, 15, 16, 17]\n",
      " 8\n"
     ]
    },
    {
     "name": "stdout",
     "output_type": "stream",
     "text": [
      "8\n",
      "8\n",
      "2\n"
     ]
    }
   ],
   "source": [
    "#take input here\n",
    "import ast\n",
    "valley_list= ast.literal_eval(input())\n",
    "key= int(input())\n",
    "\n",
    "#start writing your code here\n",
    "\n",
    "def valley_search(valley_list, key):\n",
    "    \"\"\"\n",
    "    Finds the index of the given key in a valley list using binary search.\n",
    "\n",
    "    Args:\n",
    "        valley_list: The valley list.\n",
    "        key: The key to search for.\n",
    "\n",
    "    Returns:\n",
    "        The index of the key in the valley list, or -1 if not found.\n",
    "    \"\"\"\n",
    "\n",
    "    left, right = 0, len(valley_list) - 1\n",
    "\n",
    "    # Find the valley index\n",
    "    for i in range(len(valley_list)):\n",
    "        if valley_list[i]<valley_list[i+1]:\n",
    "            valley_index = i\n",
    "            break\n",
    "    # Perform binary search in the appropriate part\n",
    "    left, right = 0, len(valley_list) - 1\n",
    "    if key == valley_list[valley_index]:\n",
    "        return valley_index\n",
    "    elif key > valley_list[valley_index] and key <=valley_list[left]:\n",
    "        right  = valley_index -1\n",
    "        while(left<=right):\n",
    "            mid_left = (left+right)//2\n",
    "            if key == valley_list[mid_left]:\n",
    "                return mid_left\n",
    "            elif key > valley_list[mid_left]:\n",
    "                right  = mid_left -1\n",
    "            else:\n",
    "                left = mid_left +1\n",
    "    elif key <= valley_list[valley_index+1] and key > valley_list[0] and key < valley_list[right]:\n",
    "        left = valley_index +1\n",
    "        while(left<=right):\n",
    "            mid_right = (left+right)//2\n",
    "            if key == valley_list[mid_right]:\n",
    "                return mid_right\n",
    "            elif key < valley_list[mid_right]:\n",
    "                right = mid_right -1\n",
    "            else:\n",
    "                left= mid_right +1\n",
    "        \n",
    "    else:\n",
    "        return -1\n",
    "    \n",
    "print(valley_search(valley_list, key))"
   ]
  },
  {
   "cell_type": "markdown",
   "id": "a26e053c-3ee6-42f3-9c4f-c9eb531b4b09",
   "metadata": {},
   "source": [
    "[3,5,7,9,11,13,15,17,19,21,23,25,27]\n"
   ]
  }
 ],
 "metadata": {
  "kernelspec": {
   "display_name": "Python 3 (ipykernel)",
   "language": "python",
   "name": "python3"
  },
  "language_info": {
   "codemirror_mode": {
    "name": "ipython",
    "version": 3
   },
   "file_extension": ".py",
   "mimetype": "text/x-python",
   "name": "python",
   "nbconvert_exporter": "python",
   "pygments_lexer": "ipython3",
   "version": "3.12.4"
  }
 },
 "nbformat": 4,
 "nbformat_minor": 5
}
